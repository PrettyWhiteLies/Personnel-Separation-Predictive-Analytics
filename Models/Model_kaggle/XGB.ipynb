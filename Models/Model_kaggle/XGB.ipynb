{
 "cells": [
  {
   "cell_type": "code",
   "execution_count": 7,
   "metadata": {},
   "outputs": [],
   "source": [
    "import pandas as pd\n",
    "from sklearn.preprocessing import StandardScaler\n",
    "import xgboost as xgb  \n",
    "from sklearn.model_selection import train_test_split  \n",
    "from sklearn.metrics import accuracy_score, precision_score, recall_score, f1_score, classification_report\n",
    "from imblearn.over_sampling import SMOTE\n",
    "import matplotlib.pyplot as plt\n",
    "import seaborn as sns\n",
    "import numpy as np"
   ]
  },
  {
   "cell_type": "markdown",
   "metadata": {},
   "source": [
    "# Reading data"
   ]
  },
  {
   "cell_type": "code",
   "execution_count": 8,
   "metadata": {},
   "outputs": [
    {
     "name": "stdout",
     "output_type": "stream",
     "text": [
      "   Age  BusinessTravel  DistanceFromHome  Education  EmployeeNumber  \\\n",
      "0   37               1                 1          4              77   \n",
      "1   54               2                 1          4            1245   \n",
      "2   34               2                 7          3             147   \n",
      "3   39               1                 1          1            1026   \n",
      "4   28               2                 1          3            1111   \n",
      "\n",
      "   EnvironmentSatisfaction  Gender  JobInvolvement  JobLevel  JobSatisfaction  \\\n",
      "0                        1       0               2         2                3   \n",
      "1                        4       1               3         3                3   \n",
      "2                        1       0               1         2                3   \n",
      "3                        4       1               2         4                4   \n",
      "4                        1       0               2         1                2   \n",
      "\n",
      "   ...  JobRole_Human Resources  JobRole_Laboratory Technician  \\\n",
      "0  ...                        0                              0   \n",
      "1  ...                        0                              0   \n",
      "2  ...                        0                              1   \n",
      "3  ...                        0                              0   \n",
      "4  ...                        0                              1   \n",
      "\n",
      "   JobRole_Manager  JobRole_Manufacturing Director  JobRole_Research Director  \\\n",
      "0                0                               1                          0   \n",
      "1                0                               1                          0   \n",
      "2                0                               0                          0   \n",
      "3                0                               1                          0   \n",
      "4                0                               0                          0   \n",
      "\n",
      "   JobRole_Research Scientist  JobRole_Sales Executive  \\\n",
      "0                           0                        0   \n",
      "1                           0                        0   \n",
      "2                           0                        0   \n",
      "3                           0                        0   \n",
      "4                           0                        0   \n",
      "\n",
      "   JobRole_Sales Representative  MaritalStatus_Married  MaritalStatus_Single  \n",
      "0                             0                      0                     0  \n",
      "1                             0                      0                     0  \n",
      "2                             0                      0                     1  \n",
      "3                             0                      1                     0  \n",
      "4                             0                      0                     0  \n",
      "\n",
      "[5 rows x 43 columns]\n"
     ]
    }
   ],
   "source": [
    "combined_data_path = '../EDA_kaggle/combined_data.csv'\n",
    "combined_data = pd.read_csv(combined_data_path)\n",
    "\n",
    "# View the first few rows to ensure the data is loaded successfully\n",
    "print(combined_data.head())"
   ]
  },
  {
   "cell_type": "code",
   "execution_count": 9,
   "metadata": {},
   "outputs": [
    {
     "data": {
      "text/plain": [
       "Index(['Age', 'BusinessTravel', 'DistanceFromHome', 'Education',\n",
       "       'EmployeeNumber', 'EnvironmentSatisfaction', 'Gender', 'JobInvolvement',\n",
       "       'JobLevel', 'JobSatisfaction', 'MonthlyIncome', 'NumCompaniesWorked',\n",
       "       'OverTime', 'PercentSalaryHike', 'PerformanceRating',\n",
       "       'RelationshipSatisfaction', 'StandardHours', 'StockOptionLevel',\n",
       "       'TotalWorkingYears', 'TrainingTimesLastYear', 'WorkLifeBalance',\n",
       "       'YearsAtCompany', 'YearsInCurrentRole', 'YearsSinceLastPromotion',\n",
       "       'YearsWithCurrManager', 'Label', 'Department_Research & Development',\n",
       "       'Department_Sales', 'EducationField_Life Sciences',\n",
       "       'EducationField_Marketing', 'EducationField_Medical',\n",
       "       'EducationField_Other', 'EducationField_Technical Degree',\n",
       "       'JobRole_Human Resources', 'JobRole_Laboratory Technician',\n",
       "       'JobRole_Manager', 'JobRole_Manufacturing Director',\n",
       "       'JobRole_Research Director', 'JobRole_Research Scientist',\n",
       "       'JobRole_Sales Executive', 'JobRole_Sales Representative',\n",
       "       'MaritalStatus_Married', 'MaritalStatus_Single'],\n",
       "      dtype='object')"
      ]
     },
     "execution_count": 9,
     "metadata": {},
     "output_type": "execute_result"
    }
   ],
   "source": [
    "combined_data.columns"
   ]
  },
  {
   "cell_type": "markdown",
   "metadata": {},
   "source": [
    "# Fitting the model"
   ]
  },
  {
   "cell_type": "code",
   "execution_count": 16,
   "metadata": {},
   "outputs": [],
   "source": [
    "X = combined_data.drop(columns=['Label'])\n",
    "y = combined_data['Label']"
   ]
  },
  {
   "cell_type": "code",
   "execution_count": 17,
   "metadata": {},
   "outputs": [],
   "source": [
    "# Standardize the numerical features\n",
    "scaler = StandardScaler()\n",
    "X_scaled = scaler.fit_transform(X)\n",
    "\n",
    "# Split the dataset into training and testing sets\n",
    "X_train, X_test, y_train, y_test = train_test_split(X_scaled, y, test_size=0.2, random_state=42)\n"
   ]
  },
  {
   "cell_type": "code",
   "execution_count": 19,
   "metadata": {},
   "outputs": [
    {
     "name": "stdout",
     "output_type": "stream",
     "text": [
      "Accuracy: 0.96\n",
      "Precision: 0.9333\n",
      "Recall: 0.8333\n",
      "F1 Score: 0.8805\n"
     ]
    }
   ],
   "source": [
    "# Prepare the data\n",
    "dtrain = xgb.DMatrix(X_train, label=y_train)  \n",
    "dtest = xgb.DMatrix(X_test, label=y_test)  \n",
    "\n",
    "# Set XGBoost parameters for binary classification\n",
    "params = {  \n",
    "    'objective': 'binary:logistic',  # Binary classification\n",
    "    'eval_metric': 'logloss',        # Logarithmic loss for binary classification\n",
    "    'max_depth': 4,                  # Tree depth (can be tuned)\n",
    "    'eta': 0.3,                      # Learning rate (can be tuned)\n",
    "    'seed': 42                       # Seed for reproducibility\n",
    "}  \n",
    "\n",
    "# Train the model  \n",
    "num_round = 100  # Number of boosting rounds\n",
    "bst = xgb.train(params, dtrain, num_round)  \n",
    "\n",
    "# Predict on the test set\n",
    "y_pred = bst.predict(dtest)   \n",
    "best_preds = [1 if y > 0.5 else 0 for y in y_pred]  # Binary classification threshold at 0.5\n",
    "\n",
    "# Calculate evaluation metrics\n",
    "accuracy = accuracy_score(y_test, best_preds) \n",
    "precision = precision_score(y_test, best_preds)\n",
    "recall = recall_score(y_test, best_preds)\n",
    "f1 = f1_score(y_test, best_preds)\n",
    "\n",
    "# Print the results\n",
    "print(f\"Accuracy: {accuracy:.2f}\")\n",
    "print(f'Precision: {precision:.4f}')\n",
    "print(f'Recall: {recall:.4f}')\n",
    "print(f'F1 Score: {f1:.4f}')\n"
   ]
  },
  {
   "cell_type": "markdown",
   "metadata": {},
   "source": [
    "#  Select Features"
   ]
  },
  {
   "cell_type": "markdown",
   "metadata": {},
   "source": [
    "#### Visualize feature importance"
   ]
  },
  {
   "cell_type": "code",
   "execution_count": 20,
   "metadata": {},
   "outputs": [
    {
     "name": "stderr",
     "output_type": "stream",
     "text": [
      "C:\\Users\\user\\AppData\\Local\\Temp\\ipykernel_49376\\483236249.py:6: FutureWarning: \n",
      "\n",
      "Passing `palette` without assigning `hue` is deprecated and will be removed in v0.14.0. Assign the `y` variable to `hue` and set `legend=False` for the same effect.\n",
      "\n",
      "  sns.barplot(x=[imp[1] for imp in importance_list], y=[imp[0] for imp in importance_list], palette=\"viridis\")\n"
     ]
    },
    {
     "data": {
      "image/png": "[encoded data removed]",
      "text/plain": [
       "<Figure size 1000x600 with 1 Axes>"
      ]
     },
     "metadata": {},
     "output_type": "display_data"
    }
   ],
   "source": [
    "importance = bst.get_score(importance_type='weight')  \n",
    "  \n",
    "importance_list = sorted(importance.items(), key=lambda x: x[1], reverse=True)  \n",
    "  \n",
    "plt.figure(figsize=(10, 6))  \n",
    "sns.barplot(x=[imp[1] for imp in importance_list], y=[imp[0] for imp in importance_list], palette=\"viridis\")  \n",
    "plt.xlabel('Feature Importance')  \n",
    "plt.ylabel('Features')  \n",
    "plt.title('Feature Importance from XGBoost')  \n",
    "plt.show()"
   ]
  },
  {
   "cell_type": "markdown",
   "metadata": {},
   "source": [
    "#### So select top 22 features based on importance"
   ]
  },
  {
   "cell_type": "code",
   "execution_count": 26,
   "metadata": {},
   "outputs": [
    {
     "name": "stdout",
     "output_type": "stream",
     "text": [
      "Top 22 features by importance:\n",
      "MonthlyIncome: 130.0000\n",
      "EmployeeNumber: 116.0000\n",
      "Age: 94.0000\n",
      "DistanceFromHome: 81.0000\n",
      "PercentSalaryHike: 51.0000\n",
      "JobSatisfaction: 48.0000\n",
      "NumCompaniesWorked: 48.0000\n",
      "JobInvolvement: 46.0000\n",
      "TrainingTimesLastYear: 45.0000\n",
      "YearsInCurrentRole: 44.0000\n",
      "EnvironmentSatisfaction: 41.0000\n",
      "StandardHours: 40.0000\n",
      "WorkLifeBalance: 40.0000\n",
      "YearsAtCompany: 40.0000\n",
      "StockOptionLevel: 39.0000\n",
      "RelationshipSatisfaction: 38.0000\n",
      "OverTime: 37.0000\n",
      "PerformanceRating: 34.0000\n",
      "TotalWorkingYears: 33.0000\n",
      "BusinessTravel: 27.0000\n",
      "Education: 20.0000\n",
      "JobRole_Laboratory Technician: 18.0000\n"
     ]
    }
   ],
   "source": [
    "importance = bst.get_score(importance_type='weight')  \n",
    "  \n",
    "importance_with_names = {feature: score for feature, score in zip(X.columns, importance.values())}  \n",
    "  \n",
    "# Sort feature importance and extract the top 22 most significant features  \n",
    "sorted_importance = sorted(importance_with_names.items(), key=lambda item: item[1], reverse=True)  \n",
    "top_22_features = sorted_importance[:22]  \n",
    "top_22_feature_names = [feature for feature, score in top_22_features]   \n",
    "\n",
    "# Print the top 22 significant features  \n",
    "print(\"Top 22 features by importance:\")  \n",
    "for feature, score in top_22_features:  \n",
    "    print(f\"{feature}: {score:.4f}\")\n",
    "\n",
    "# Select these significant features from X\n",
    "X_selected = X[top_22_feature_names]"
   ]
  },
  {
   "cell_type": "code",
   "execution_count": 28,
   "metadata": {},
   "outputs": [
    {
     "name": "stdout",
     "output_type": "stream",
     "text": [
      "Accuracy: 0.97\n",
      "Precision: 0.9359\n",
      "Recall: 0.8690\n",
      "F1 Score: 0.9012\n"
     ]
    }
   ],
   "source": [
    "# Standardize the selected features\n",
    "scaler = StandardScaler()\n",
    "X_selected_standardized = scaler.fit_transform(X_selected)  # Standardize features to mean 0 and variance 1\n",
    "\n",
    "# Split the dataset into training and testing sets\n",
    "X_train, X_test, y_train, y_test = train_test_split(X_selected_standardized, y, test_size=0.2, random_state=42)\n",
    "\n",
    "# Convert data into DMatrix for XGBoost\n",
    "dtrain = xgb.DMatrix(X_train, label=y_train)  \n",
    "dtest = xgb.DMatrix(X_test, label=y_test)  \n",
    "\n",
    "# Set XGBoost parameters (since it's a binary classification problem)\n",
    "params = {  \n",
    "    'objective': 'binary:logistic',  # Binary classification\n",
    "    'eval_metric': 'logloss',        # Logarithmic loss\n",
    "    'max_depth': 4,                  # Tree depth\n",
    "    'eta': 0.3,                      # Learning rate\n",
    "    'seed': 42                       # Random seed for reproducibility\n",
    "}\n",
    "\n",
    "# Train the model  \n",
    "num_round = 100  # Number of boosting rounds\n",
    "bst = xgb.train(params, dtrain, num_round)\n",
    "\n",
    "# Predict on the test set\n",
    "y_pred = bst.predict(dtest)\n",
    "best_preds = [1 if y > 0.5 else 0 for y in y_pred]  # Convert probabilities to binary 0/1 predictions\n",
    "\n",
    "# Calculate metrics\n",
    "accuracy = accuracy_score(y_test, best_preds)\n",
    "precision = precision_score(y_test, best_preds)\n",
    "recall = recall_score(y_test, best_preds)\n",
    "f1 = f1_score(y_test, best_preds)\n",
    "\n",
    "# Print evaluation metrics\n",
    "print(f\"Accuracy: {accuracy:.2f}\")\n",
    "print(f'Precision: {precision:.4f}')\n",
    "print(f'Recall: {recall:.4f}')\n",
    "print(f'F1 Score: {f1:.4f}')"
   ]
  },
  {
   "cell_type": "markdown",
   "metadata": {},
   "source": [
    "## Addressing data imbalance"
   ]
  },
  {
   "cell_type": "code",
   "execution_count": 29,
   "metadata": {},
   "outputs": [
    {
     "name": "stdout",
     "output_type": "stream",
     "text": [
      "Accuracy: 0.97\n",
      "Precision: 0.9775\n",
      "Recall: 0.9654\n",
      "F1 Score: 0.9714\n"
     ]
    }
   ],
   "source": [
    "# Perform oversampling using SMOTE\n",
    "sm = SMOTE(random_state=42)\n",
    "X_res, y_res = sm.fit_resample(X_selected_standardized, y)\n",
    "\n",
    "# Split the oversampled dataset into training and testing sets\n",
    "X_train_res, X_test_res, y_train_res, y_test_res = train_test_split(X_res, y_res, test_size=0.2, random_state=42)\n",
    "\n",
    "# Prepare the data for XGBoost\n",
    "dtrain = xgb.DMatrix(X_train_res, label=y_train_res)\n",
    "dtest = xgb.DMatrix(X_test_res, label=y_test_res)\n",
    "\n",
    "# Set XGBoost parameters for binary classification\n",
    "params = {\n",
    "    'objective': 'binary:logistic',\n",
    "    'eval_metric': 'logloss',\n",
    "    'max_depth': 4,\n",
    "    'eta': 0.3,\n",
    "    'subsample': 0.8,\n",
    "    'colsample_bytree': 0.8,\n",
    "    'seed': 42\n",
    "}\n",
    "\n",
    "# Train the model\n",
    "num_round = 100\n",
    "bst = xgb.train(params, dtrain, num_round)\n",
    "\n",
    "# Predict on the test set\n",
    "y_pred = bst.predict(dtest)\n",
    "best_preds = [1 if y > 0.5 else 0 for y in y_pred]\n",
    "\n",
    "# Calculate metrics\n",
    "accuracy = accuracy_score(y_test_res, best_preds)\n",
    "precision = precision_score(y_test_res, best_preds, average='binary')\n",
    "recall = recall_score(y_test_res, best_preds, average='binary')\n",
    "f1 = f1_score(y_test_res, best_preds, average='binary')\n",
    "\n",
    "# Print metrics\n",
    "print(f\"Accuracy: {accuracy:.2f}\")\n",
    "print(f'Precision: {precision:.4f}')\n",
    "print(f'Recall: {recall:.4f}')\n",
    "print(f'F1 Score: {f1:.4f}')"
   ]
  },
  {
   "cell_type": "code",
   "execution_count": 30,
   "metadata": {},
   "outputs": [
    {
     "name": "stdout",
     "output_type": "stream",
     "text": [
      "Accuracy: 0.96\n",
      "Precision: 0.8706\n",
      "Recall: 0.8810\n",
      "F1 Score: 0.8757\n"
     ]
    }
   ],
   "source": [
    "# Standardize the selected features\n",
    "scaler = StandardScaler()\n",
    "X_selected_standardized = scaler.fit_transform(X_selected)  # Standardize features to mean 0 and variance 1\n",
    "\n",
    "# Split the dataset into training and testing sets\n",
    "X_train, X_test, y_train, y_test = train_test_split(X_selected_standardized, y, test_size=0.2, random_state=42)\n",
    "\n",
    "# Convert data into DMatrix for XGBoost\n",
    "dtrain = xgb.DMatrix(X_train, label=y_train)  \n",
    "dtest = xgb.DMatrix(X_test, label=y_test)  \n",
    "\n",
    "# Set XGBoost parameters (since it's a binary classification problem)\n",
    "params = {\n",
    "    'objective': 'binary:logistic',\n",
    "    'eval_metric': 'logloss',\n",
    "    'max_depth': 4,\n",
    "    'eta': 0.3,\n",
    "    'subsample': 0.8,\n",
    "    'colsample_bytree': 0.8,\n",
    "    'seed': 42,\n",
    "    'scale_pos_weight': len(y[y == 0]) / len(y[y == 1])  \n",
    "}\n",
    "\n",
    "\n",
    "# Train the model  \n",
    "num_round = 100  # Number of boosting rounds\n",
    "bst = xgb.train(params, dtrain, num_round)\n",
    "\n",
    "# Predict on the test set\n",
    "y_pred = bst.predict(dtest)\n",
    "best_preds = [1 if y > 0.5 else 0 for y in y_pred]  # Convert probabilities to binary 0/1 predictions\n",
    "\n",
    "# Calculate metrics\n",
    "accuracy = accuracy_score(y_test, best_preds)\n",
    "precision = precision_score(y_test, best_preds)\n",
    "recall = recall_score(y_test, best_preds)\n",
    "f1 = f1_score(y_test, best_preds)\n",
    "\n",
    "# Print evaluation metrics\n",
    "print(f\"Accuracy: {accuracy:.2f}\")\n",
    "print(f'Precision: {precision:.4f}')\n",
    "print(f'Recall: {recall:.4f}')\n",
    "print(f'F1 Score: {f1:.4f}')\n"
   ]
  }
 ],
 "metadata": {
  "kernelspec": {
   "display_name": "comp90051_env",
   "language": "python",
   "name": "python3"
  },
  "language_info": {
   "codemirror_mode": {
    "name": "ipython",
    "version": 3
   },
   "file_extension": ".py",
   "mimetype": "text/x-python",
   "name": "python",
   "nbconvert_exporter": "python",
   "pygments_lexer": "ipython3",
   "version": "3.9.20"
  }
 },
 "nbformat": 4,
 "nbformat_minor": 2
}
