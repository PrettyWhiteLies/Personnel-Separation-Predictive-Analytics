{
 "cells": [
  {
   "cell_type": "code",
   "execution_count": 2,
   "metadata": {},
   "outputs": [],
   "source": [
    "import numpy as np  \n",
    "import pandas as pd\n",
    "from sklearn.model_selection import train_test_split  \n",
    "from sklearn.ensemble import RandomForestRegressor, RandomForestClassifier  \n",
    "from sklearn.metrics import accuracy_score, precision_score, recall_score, f1_score, classification_report\n",
    "from sklearn.metrics import mean_squared_error, accuracy_score  \n",
    "from sklearn.preprocessing import StandardScaler\n",
    "from imblearn.over_sampling import SMOTE\n",
    "import matplotlib.pyplot as plt\n",
    "from sklearn.model_selection import cross_val_score, train_test_split  \n"
   ]
  },
  {
   "cell_type": "markdown",
   "metadata": {},
   "source": [
    "# Reading data"
   ]
  },
  {
   "cell_type": "code",
   "execution_count": 3,
   "metadata": {
    "scrolled": false
   },
   "outputs": [
    {
     "name": "stdout",
     "output_type": "stream",
     "text": [
      "   Age  BusinessTravel  DistanceFromHome  Education  EmployeeNumber  \\\n",
      "0   37               1                 1          4              77   \n",
      "1   54               2                 1          4            1245   \n",
      "2   34               2                 7          3             147   \n",
      "3   39               1                 1          1            1026   \n",
      "4   28               2                 1          3            1111   \n",
      "\n",
      "   EnvironmentSatisfaction  Gender  JobInvolvement  JobLevel  JobSatisfaction  \\\n",
      "0                        1       0               2         2                3   \n",
      "1                        4       1               3         3                3   \n",
      "2                        1       0               1         2                3   \n",
      "3                        4       1               2         4                4   \n",
      "4                        1       0               2         1                2   \n",
      "\n",
      "   ...  JobRole_Human Resources  JobRole_Laboratory Technician  \\\n",
      "0  ...                        0                              0   \n",
      "1  ...                        0                              0   \n",
      "2  ...                        0                              1   \n",
      "3  ...                        0                              0   \n",
      "4  ...                        0                              1   \n",
      "\n",
      "   JobRole_Manager  JobRole_Manufacturing Director  JobRole_Research Director  \\\n",
      "0                0                               1                          0   \n",
      "1                0                               1                          0   \n",
      "2                0                               0                          0   \n",
      "3                0                               1                          0   \n",
      "4                0                               0                          0   \n",
      "\n",
      "   JobRole_Research Scientist  JobRole_Sales Executive  \\\n",
      "0                           0                        0   \n",
      "1                           0                        0   \n",
      "2                           0                        0   \n",
      "3                           0                        0   \n",
      "4                           0                        0   \n",
      "\n",
      "   JobRole_Sales Representative  MaritalStatus_Married  MaritalStatus_Single  \n",
      "0                             0                      0                     0  \n",
      "1                             0                      0                     0  \n",
      "2                             0                      0                     1  \n",
      "3                             0                      1                     0  \n",
      "4                             0                      0                     0  \n",
      "\n",
      "[5 rows x 43 columns]\n"
     ]
    }
   ],
   "source": [
    "\n",
    "combined_data_path = '../EDA_kaggle/combined_data.csv'\n",
    "combined_data = pd.read_csv(combined_data_path)\n",
    "\n",
    "\n",
    "print(combined_data.head())"
   ]
  },
  {
   "cell_type": "code",
   "execution_count": 4,
   "metadata": {},
   "outputs": [
    {
     "data": {
      "text/plain": [
       "Index(['Age', 'BusinessTravel', 'DistanceFromHome', 'Education',\n",
       "       'EmployeeNumber', 'EnvironmentSatisfaction', 'Gender', 'JobInvolvement',\n",
       "       'JobLevel', 'JobSatisfaction', 'MonthlyIncome', 'NumCompaniesWorked',\n",
       "       'OverTime', 'PercentSalaryHike', 'PerformanceRating',\n",
       "       'RelationshipSatisfaction', 'StandardHours', 'StockOptionLevel',\n",
       "       'TotalWorkingYears', 'TrainingTimesLastYear', 'WorkLifeBalance',\n",
       "       'YearsAtCompany', 'YearsInCurrentRole', 'YearsSinceLastPromotion',\n",
       "       'YearsWithCurrManager', 'Label', 'Department_Research & Development',\n",
       "       'Department_Sales', 'EducationField_Life Sciences',\n",
       "       'EducationField_Marketing', 'EducationField_Medical',\n",
       "       'EducationField_Other', 'EducationField_Technical Degree',\n",
       "       'JobRole_Human Resources', 'JobRole_Laboratory Technician',\n",
       "       'JobRole_Manager', 'JobRole_Manufacturing Director',\n",
       "       'JobRole_Research Director', 'JobRole_Research Scientist',\n",
       "       'JobRole_Sales Executive', 'JobRole_Sales Representative',\n",
       "       'MaritalStatus_Married', 'MaritalStatus_Single'],\n",
       "      dtype='object')"
      ]
     },
     "execution_count": 4,
     "metadata": {},
     "output_type": "execute_result"
    }
   ],
   "source": [
    "combined_data.columns"
   ]
  },
  {
   "cell_type": "markdown",
   "metadata": {},
   "source": [
    "# Fitting the model"
   ]
  },
  {
   "cell_type": "code",
   "execution_count": 27,
   "metadata": {},
   "outputs": [],
   "source": [
    "\n",
    "X = combined_data.drop(columns=['Label'])\n",
    "y = combined_data['Label']"
   ]
  },
  {
   "cell_type": "code",
   "execution_count": 29,
   "metadata": {},
   "outputs": [],
   "source": [
    "\n",
    "scaler = StandardScaler()\n",
    "X_scaled = scaler.fit_transform(X)\n",
    "\n",
    "\n",
    "X_train, X_test, y_train, y_test = train_test_split(X_scaled, y, test_size=0.2, random_state=42)\n"
   ]
  },
  {
   "cell_type": "code",
   "execution_count": 35,
   "metadata": {},
   "outputs": [
    {
     "name": "stdout",
     "output_type": "stream",
     "text": [
      "Accuracy: 0.9630\n",
      "Precision: 0.9710\n",
      "Recall: 0.7976\n",
      "F1 Score: 0.8758\n"
     ]
    }
   ],
   "source": [
    "model = RandomForestClassifier(n_estimators=100, random_state=42)  \n",
    "\n",
    "# Train the model\n",
    "model.fit(X_train, y_train)  \n",
    "\n",
    "# Make predictions\n",
    "y_pred = model.predict(X_test)  \n",
    "\n",
    "accuracy = accuracy_score(y_test, y_pred)  \n",
    "precision = precision_score(y_test, y_pred)\n",
    "recall = recall_score(y_test, y_pred)\n",
    "f1 = f1_score(y_test, y_pred)\n",
    "\n",
    "print(f'Accuracy: {accuracy:.4f}')\n",
    "print(f'Precision: {precision:.4f}')\n",
    "print(f'Recall: {recall:.4f}')\n",
    "print(f'F1 Score: {f1:.4f}')"
   ]
  },
  {
   "cell_type": "markdown",
   "metadata": {},
   "source": [
    "#  Select Features"
   ]
  },
  {
   "cell_type": "code",
   "execution_count": 11,
   "metadata": {},
   "outputs": [
    {
     "data": {
      "image/png": "[encoded data removed]",
      "text/plain": [
       "<Figure size 1000x600 with 1 Axes>"
      ]
     },
     "metadata": {},
     "output_type": "display_data"
    }
   ],
   "source": [
    "X_train, X_test, y_train, y_test = train_test_split(X_scaled, y, test_size=0.2, random_state=42)\n",
    "\n",
    "model = RandomForestClassifier(n_estimators=100, random_state=42)\n",
    "\n",
    "scores = []\n",
    "\n",
    "\n",
    "for i in range(1, X.shape[1] + 1):\n",
    "    X_temp = X_train[:, :i]  \n",
    "    score = cross_val_score(model, X_temp, y_train, cv=5).mean()\n",
    "    scores.append((i, score))\n",
    "\n",
    "scores_df = pd.DataFrame(scores, columns=['Number of Features', 'Mean Cross-Validation Score'])\n",
    "\n",
    "plt.figure(figsize=(10, 6))\n",
    "plt.plot(scores_df['Number of Features'], scores_df['Mean Cross-Validation Score'], marker='o')\n",
    "plt.title('Cross-Validation Scores vs. Number of Features')\n",
    "plt.xlabel('Number of Features')\n",
    "plt.ylabel('Mean Cross-Validation Score')\n",
    "plt.grid(True)\n",
    "plt.show()"
   ]
  },
  {
   "cell_type": "markdown",
   "metadata": {},
   "source": [
    "#### So Select the top 13 important features "
   ]
  },
  {
   "cell_type": "code",
   "execution_count": 32,
   "metadata": {},
   "outputs": [
    {
     "name": "stdout",
     "output_type": "stream",
     "text": [
      "Top 13 Significant Features:\n",
      "['MonthlyIncome', 'Age', 'OverTime', 'EmployeeNumber', 'DistanceFromHome', 'TotalWorkingYears', 'YearsAtCompany', 'PercentSalaryHike', 'JobSatisfaction', 'NumCompaniesWorked', 'YearsWithCurrManager', 'EnvironmentSatisfaction', 'YearsSinceLastPromotion']\n",
      "Accuracy: 0.9669\n",
      "Precision: 0.9589\n",
      "Recall: 0.8333\n",
      "F1 Score: 0.8917\n"
     ]
    }
   ],
   "source": [
    "X_train, X_test, y_train, y_test = train_test_split(X, y, test_size=0.2, random_state=42)\n",
    "\n",
    "\n",
    "model = RandomForestClassifier(n_estimators=100, random_state=42)\n",
    "model.fit(X_train, y_train)\n",
    "\n",
    "importances = model.feature_importances_\n",
    "\n",
    "feature_importances = pd.DataFrame({'Feature': X.columns, 'Importance': importances}).sort_values(by='Importance', ascending=False)\n",
    "\n",
    "N = 13\n",
    "significant_features = feature_importances.head(N)['Feature'].tolist()\n",
    "\n",
    "print(\"Top 13 Significant Features:\")\n",
    "print(significant_features)\n",
    "\n",
    "X_selected = X[significant_features]\n",
    "\n",
    "scaler = StandardScaler()\n",
    "X_scaled_selected = scaler.fit_transform(X_selected)\n",
    "\n",
    "X_train_scaled, X_test_scaled, y_train, y_test = train_test_split(X_scaled_selected, y, test_size=0.2, random_state=42)\n",
    "\n",
    "model = RandomForestClassifier(n_estimators=100, random_state=42)\n",
    "model.fit(X_train_scaled, y_train)\n",
    "\n",
    "y_pred = model.predict(X_test_scaled)\n",
    "\n",
    "accuracy = accuracy_score(y_test, y_pred)\n",
    "precision = precision_score(y_test, y_pred, average='binary')  \n",
    "recall = recall_score(y_test, y_pred, average='binary')\n",
    "f1 = f1_score(y_test, y_pred, average='binary')\n",
    "\n",
    "print(f'Accuracy: {accuracy:.4f}')\n",
    "print(f'Precision: {precision:.4f}')\n",
    "print(f'Recall: {recall:.4f}')\n",
    "print(f'F1 Score: {f1:.4f}')\n"
   ]
  },
  {
   "cell_type": "markdown",
   "metadata": {},
   "source": [
    "## Addressing data imbalance"
   ]
  },
  {
   "cell_type": "code",
   "execution_count": 33,
   "metadata": {},
   "outputs": [
    {
     "name": "stdout",
     "output_type": "stream",
     "text": [
      "Precision: 0.9755\n",
      "Recall: 0.9827\n",
      "F1 Score: 0.9791\n",
      "Accuracy: 0.9803\n"
     ]
    }
   ],
   "source": [
    "\n",
    "sm = SMOTE(random_state=42)\n",
    "X_res, y_res = sm.fit_resample(X_scaled_selected, y)\n",
    "\n",
    "X_train_res, X_test_res, y_train_res, y_test_res = train_test_split(X_res, y_res, test_size=0.2, random_state=42)\n",
    "\n",
    "model = RandomForestClassifier(n_estimators=100, random_state=42)  \n",
    "  \n",
    "\n",
    "model.fit(X_train_res, y_train_res)  \n",
    "  \n",
    "\n",
    "y_pred_res = model.predict(X_test_res)  \n",
    "  \n",
    "accuracy = accuracy_score(y_test_res, y_pred_res)  \n",
    "precision = precision_score(y_test_res, y_pred_res, average='binary')  # 'binary' for binary classification\n",
    "recall = recall_score(y_test_res, y_pred_res, average='binary')\n",
    "f1 = f1_score(y_test_res, y_pred_res, average='binary')\n",
    "\n",
    "print(f'Precision: {precision:.4f}')\n",
    "print(f'Recall: {recall:.4f}')\n",
    "print(f'F1 Score: {f1:.4f}')\n",
    "print(f'Accuracy: {accuracy:.4f}')"
   ]
  },
  {
   "cell_type": "code",
   "execution_count": 34,
   "metadata": {},
   "outputs": [
    {
     "name": "stdout",
     "output_type": "stream",
     "text": [
      "Precision: 0.9692\n",
      "Recall: 0.7500\n",
      "F1 Score: 0.8456\n",
      "Accuracy: 0.9553\n"
     ]
    }
   ],
   "source": [
    "\n",
    "model = RandomForestClassifier(random_state=42, class_weight='balanced')\n",
    "\n",
    "X_train, X_test, y_train, y_test = train_test_split(X_scaled, y, test_size=0.2, random_state=42)\n",
    "  \n",
    "model.fit(X_train, y_train)  \n",
    "  \n",
    "\n",
    "y_pred = model.predict(X_test)  \n",
    "  \n",
    "if isinstance(model, RandomForestRegressor):  \n",
    "    mse = mean_squared_error(y_test, y_pred)  \n",
    "    print(f'Mean Squared Error: {mse}')  \n",
    "else:  \n",
    "    accuracy = accuracy_score(y_test, y_pred)  \n",
    "    precision = precision_score(y_test, y_pred, average='binary') \n",
    "    recall = recall_score(y_test, y_pred, average='binary')\n",
    "    f1 = f1_score(y_test, y_pred, average='binary')\n",
    "    print(f'Precision: {precision:.4f}')\n",
    "    print(f'Recall: {recall:.4f}')\n",
    "    print(f'F1 Score: {f1:.4f}')\n",
    "    print(f'Accuracy: {accuracy:.4f}')"
   ]
  },
  {
   "cell_type": "code",
   "execution_count": null,
   "metadata": {},
   "outputs": [],
   "source": []
  }
 ],
 "metadata": {
  "kernelspec": {
   "display_name": "Python 3 (ipykernel)",
   "language": "python",
   "name": "python3"
  },
  "language_info": {
   "codemirror_mode": {
    "name": "ipython",
    "version": 3
   },
   "file_extension": ".py",
   "mimetype": "text/x-python",
   "name": "python",
   "nbconvert_exporter": "python",
   "pygments_lexer": "ipython3",
   "version": "3.9.15"
  }
 },
 "nbformat": 4,
 "nbformat_minor": 2
}
