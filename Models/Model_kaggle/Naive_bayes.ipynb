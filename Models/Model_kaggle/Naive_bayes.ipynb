{
 "cells": [
  {
   "cell_type": "code",
   "execution_count": 1,
   "metadata": {},
   "outputs": [],
   "source": [
    "from sklearn.naive_bayes import BernoulliNB\n",
    "from sklearn.feature_selection import SelectKBest, f_classif, chi2\n",
    "from sklearn.metrics import accuracy_score, confusion_matrix, classification_report\n",
    "import pandas as pd\n",
    "from sklearn.metrics import accuracy_score, precision_score, recall_score, f1_score\n",
    "from sklearn.preprocessing import StandardScaler\n",
    "from sklearn.model_selection import train_test_split\n",
    "from sklearn.model_selection import cross_val_score\n",
    "import matplotlib.pyplot as plt\n",
    "from imblearn.over_sampling import SMOTE\n",
    "import numpy as np"
   ]
  },
  {
   "cell_type": "markdown",
   "metadata": {},
   "source": [
    "# Reading data"
   ]
  },
  {
   "cell_type": "code",
   "execution_count": 2,
   "metadata": {},
   "outputs": [
    {
     "name": "stdout",
     "output_type": "stream",
     "text": [
      "   Age  BusinessTravel  DistanceFromHome  Education  EmployeeNumber  \\\n",
      "0   37               1                 1          4              77   \n",
      "1   54               2                 1          4            1245   \n",
      "2   34               2                 7          3             147   \n",
      "3   39               1                 1          1            1026   \n",
      "4   28               2                 1          3            1111   \n",
      "\n",
      "   EnvironmentSatisfaction  Gender  JobInvolvement  JobLevel  JobSatisfaction  \\\n",
      "0                        1       0               2         2                3   \n",
      "1                        4       1               3         3                3   \n",
      "2                        1       0               1         2                3   \n",
      "3                        4       1               2         4                4   \n",
      "4                        1       0               2         1                2   \n",
      "\n",
      "   ...  JobRole_Human Resources  JobRole_Laboratory Technician  \\\n",
      "0  ...                        0                              0   \n",
      "1  ...                        0                              0   \n",
      "2  ...                        0                              1   \n",
      "3  ...                        0                              0   \n",
      "4  ...                        0                              1   \n",
      "\n",
      "   JobRole_Manager  JobRole_Manufacturing Director  JobRole_Research Director  \\\n",
      "0                0                               1                          0   \n",
      "1                0                               1                          0   \n",
      "2                0                               0                          0   \n",
      "3                0                               1                          0   \n",
      "4                0                               0                          0   \n",
      "\n",
      "   JobRole_Research Scientist  JobRole_Sales Executive  \\\n",
      "0                           0                        0   \n",
      "1                           0                        0   \n",
      "2                           0                        0   \n",
      "3                           0                        0   \n",
      "4                           0                        0   \n",
      "\n",
      "   JobRole_Sales Representative  MaritalStatus_Married  MaritalStatus_Single  \n",
      "0                             0                      0                     0  \n",
      "1                             0                      0                     0  \n",
      "2                             0                      0                     1  \n",
      "3                             0                      1                     0  \n",
      "4                             0                      0                     0  \n",
      "\n",
      "[5 rows x 43 columns]\n"
     ]
    }
   ],
   "source": [
    "combined_data_path = '../EDA_kaggle/combined_data.csv'\n",
    "combined_data = pd.read_csv(combined_data_path)\n",
    "\n",
    "print(combined_data.head())"
   ]
  },
  {
   "cell_type": "markdown",
   "metadata": {},
   "source": [
    "# Fitting the model"
   ]
  },
  {
   "cell_type": "code",
   "execution_count": 3,
   "metadata": {},
   "outputs": [],
   "source": [
    "# Set 'Label' as the target variable y, and the rest as features X\n",
    "X = combined_data.drop(columns=['Label'])\n",
    "y = combined_data['Label']"
   ]
  },
  {
   "cell_type": "code",
   "execution_count": 4,
   "metadata": {},
   "outputs": [],
   "source": [
    "# Standardize the numerical features\n",
    "scaler = StandardScaler()\n",
    "X_scaled = scaler.fit_transform(X)\n",
    "\n",
    "# Split the dataset into training and testing sets\n",
    "X_train, X_test, y_train, y_test = train_test_split(X_scaled, y, test_size=0.2, random_state=42)"
   ]
  },
  {
   "cell_type": "code",
   "execution_count": 8,
   "metadata": {},
   "outputs": [
    {
     "name": "stdout",
     "output_type": "stream",
     "text": [
      "Accuracy: 0.85\n",
      "Precision: 0.5281\n",
      "Recall: 0.5595\n",
      "F1 Score: 0.5434\n"
     ]
    }
   ],
   "source": [
    "# Initialize the Bernoulli Naive Bayes model\n",
    "nb = BernoulliNB()\n",
    "\n",
    "# Train the model\n",
    "nb.fit(X_train, y_train)\n",
    "\n",
    "# Make predictions on the test set\n",
    "y_pred = nb.predict(X_test)\n",
    "\n",
    "# Calculate metrics\n",
    "accuracy = accuracy_score(y_test, y_pred)\n",
    "precision = precision_score(y_test, y_pred)\n",
    "recall = recall_score(y_test, y_pred)\n",
    "f1 = f1_score(y_test, y_pred)\n",
    "\n",
    "# Print metrics\n",
    "print(f\"Accuracy: {accuracy:.2f}\")\n",
    "print(f'Precision: {precision:.4f}')\n",
    "print(f'Recall: {recall:.4f}')\n",
    "print(f'F1 Score: {f1:.4f}')"
   ]
  },
  {
   "cell_type": "markdown",
   "metadata": {},
   "source": [
    "## Feature Selection"
   ]
  },
  {
   "cell_type": "code",
   "execution_count": 6,
   "metadata": {},
   "outputs": [
    {
     "name": "stdout",
     "output_type": "stream",
     "text": [
      "                              Feature     Chi2 Score        P-Value\n",
      "10                      MonthlyIncome  219048.632532   0.000000e+00\n",
      "4                      EmployeeNumber     580.133277  3.508248e-128\n",
      "18                  TotalWorkingYears     441.363157   5.467286e-98\n",
      "21                     YearsAtCompany     267.007502   5.094768e-60\n",
      "22                 YearsInCurrentRole     208.430493   3.021995e-47\n",
      "24               YearsWithCurrManager     197.387327   7.762365e-45\n",
      "0                                 Age     158.510684   2.393619e-36\n",
      "2                    DistanceFromHome     124.849113   5.491557e-29\n",
      "12                           OverTime     120.224231   5.649941e-28\n",
      "39       JobRole_Sales Representative      58.823873   1.724364e-14\n",
      "41               MaritalStatus_Single      56.314079   6.177152e-14\n",
      "17                   StockOptionLevel      44.292631   2.827787e-11\n",
      "8                            JobLevel      43.639927   3.947035e-11\n",
      "23            YearsSinceLastPromotion      30.828300   2.818968e-08\n",
      "36          JobRole_Research Director      17.518516   2.845232e-05\n",
      "34                    JobRole_Manager      15.255098   9.392288e-05\n",
      "9                     JobSatisfaction      14.678607   1.274850e-04\n",
      "33      JobRole_Laboratory Technician      14.395716   1.481390e-04\n",
      "35     JobRole_Manufacturing Director      14.167877   1.672008e-04\n",
      "40              MaritalStatus_Married      11.866985   5.713783e-04\n",
      "5             EnvironmentSatisfaction      11.454503   7.132096e-04\n",
      "26                   Department_Sales      10.686763   1.079048e-03\n",
      "31    EducationField_Technical Degree      10.480133   1.206651e-03\n",
      "1                      BusinessTravel       8.839603   2.947633e-03\n",
      "11                 NumCompaniesWorked       7.724787   5.446780e-03\n",
      "7                      JobInvolvement       7.621332   5.768188e-03\n",
      "28           EducationField_Marketing       6.460404   1.103045e-02\n",
      "25  Department_Research & Development       6.177555   1.293809e-02\n",
      "32            JobRole_Human Resources       4.597658   3.201567e-02\n",
      "19              TrainingTimesLastYear       4.216816   4.002519e-02\n",
      "29             EducationField_Medical       3.816158   5.076051e-02\n",
      "15           RelationshipSatisfaction       2.630096   1.048554e-01\n",
      "20                    WorkLifeBalance       1.527637   2.164675e-01\n",
      "30               EducationField_Other       1.493149   2.217286e-01\n",
      "3                           Education       1.319975   2.505966e-01\n",
      "27       EducationField_Life Sciences       1.252664   2.630443e-01\n",
      "6                              Gender       0.883992   3.471107e-01\n",
      "38            JobRole_Sales Executive       0.540002   4.624318e-01\n",
      "37         JobRole_Research Scientist       0.383532   5.357189e-01\n",
      "14                  PerformanceRating       0.049600   8.237607e-01\n",
      "13                  PercentSalaryHike       0.029225   8.642597e-01\n",
      "16                      StandardHours       0.000000   1.000000e+00\n"
     ]
    }
   ],
   "source": [
    "# Use SelectKBest and chi2 to calculate the importance of features\n",
    "select_k_best = SelectKBest(chi2, k='all')  # k='all' means selecting all features for scoring\n",
    "X_new = select_k_best.fit_transform(X, y)\n",
    "\n",
    "# Retrieve p-values and chi2 scores\n",
    "p_values = select_k_best.pvalues_\n",
    "chi2_scores = select_k_best.scores_\n",
    "\n",
    "# Put the feature names, chi2 scores, and p-values into a DataFrame\n",
    "feature_scores = pd.DataFrame({'Feature': X.columns, 'Chi2 Score': chi2_scores, 'P-Value': p_values})\n",
    "\n",
    "# Sort by p-value in ascending order to view significant features\n",
    "significant_features = feature_scores.sort_values(by='P-Value')\n",
    "print(significant_features)                      \n"
   ]
  },
  {
   "cell_type": "code",
   "execution_count": 7,
   "metadata": {},
   "outputs": [
    {
     "name": "stdout",
     "output_type": "stream",
     "text": [
      "Accuracy: 0.8463\n",
      "Precision: 0.5281\n",
      "Recall: 0.5595\n",
      "F1 Score: 0.5434\n"
     ]
    }
   ],
   "source": [
    "# Select significant features with p-value less than 0.05\n",
    "selected_features = significant_features[significant_features['P-Value'] < 0.05]['Feature']\n",
    "\n",
    "# Select the significant features from X\n",
    "X_selected = X[selected_features]\n",
    "\n",
    "from sklearn.naive_bayes import BernoulliNB\n",
    "from sklearn.model_selection import train_test_split\n",
    "from sklearn.metrics import accuracy_score, confusion_matrix, classification_report\n",
    "scaler = StandardScaler()\n",
    "X_selected_scaled = scaler.fit_transform(X_selected)\n",
    "# Split the data into training and testing sets\n",
    "X_train, X_test, y_train, y_test = train_test_split(X_selected_scaled, y, test_size=0.2, random_state=42)\n",
    "\n",
    "# Initialize the Bernoulli Naive Bayes model\n",
    "nb = BernoulliNB()\n",
    "\n",
    "# Train the model\n",
    "nb.fit(X_train, y_train)\n",
    "\n",
    "# Make predictions on the test set\n",
    "y_pred_nb = nb.predict(X_test)\n",
    "\n",
    "# Calculate performance metrics\n",
    "accuracy = accuracy_score(y_test, y_pred_nb)\n",
    "precision = precision_score(y_test, y_pred_nb)\n",
    "recall = recall_score(y_test, y_pred_nb)\n",
    "f1 = f1_score(y_test, y_pred_nb)\n",
    "\n",
    "# Print the results with formatted output\n",
    "print(f'Accuracy: {accuracy:.4f}')\n",
    "print(f'Precision: {precision:.4f}')\n",
    "print(f'Recall: {recall:.4f}')\n",
    "print(f'F1 Score: {f1:.4f}')\n"
   ]
  },
  {
   "cell_type": "markdown",
   "metadata": {},
   "source": [
    "## Addressing data imbalance"
   ]
  },
  {
   "cell_type": "code",
   "execution_count": 9,
   "metadata": {},
   "outputs": [
    {
     "name": "stdout",
     "output_type": "stream",
     "text": [
      "Accuracy: 0.6984\n",
      "Precision: 0.6682\n",
      "Recall: 0.7111\n",
      "F1 Score: 0.6890\n"
     ]
    }
   ],
   "source": [
    "# Perform oversampling using SMOTE\n",
    "smote = SMOTE(random_state=42)\n",
    "X_res, y_res = smote.fit_resample(X_selected_scaled, y)\n",
    "\n",
    "# Split the balanced dataset into training and testing sets\n",
    "X_train_res, X_test_res, y_train_res, y_test_res = train_test_split(X_res, y_res, test_size=0.2, random_state=42)\n",
    "\n",
    "# Retrain the Bernoulli Naive Bayes model\n",
    "nb = BernoulliNB()\n",
    "nb.fit(X_train_res, y_train_res)\n",
    "\n",
    "# Make predictions on the test set and evaluate\n",
    "y_pred_res = nb.predict(X_test_res)\n",
    "accuracy = accuracy_score(y_test_res, y_pred_res)\n",
    "precision = precision_score(y_test_res, y_pred_res)\n",
    "recall = recall_score(y_test_res, y_pred_res)\n",
    "f1 = f1_score(y_test_res, y_pred_res)\n",
    "\n",
    "# Output the results\n",
    "print(f'Accuracy: {accuracy:.4f}')\n",
    "print(f'Precision: {precision:.4f}')\n",
    "print(f'Recall: {recall:.4f}')\n",
    "print(f'F1 Score: {f1:.4f}')\n"
   ]
  },
  {
   "cell_type": "code",
   "execution_count": 44,
   "metadata": {},
   "outputs": [
    {
     "name": "stdout",
     "output_type": "stream",
     "text": [
      "Accuracy: 0.6245\n",
      "Precision: 0.2829\n",
      "Recall: 0.8452\n",
      "F1 Score: 0.4239\n"
     ]
    }
   ],
   "source": [
    "# Get the predicted probabilities\n",
    "y_pred_proba = nb.predict_proba(X_test)[:, 1]\n",
    "\n",
    "# Set a lower threshold\n",
    "threshold = 0.3\n",
    "y_pred_adjusted = np.where(y_pred_proba > threshold, 1, 0)\n",
    "\n",
    "# Evaluate the model\n",
    "accuracy = accuracy_score(y_test, y_pred_adjusted)\n",
    "precision = precision_score(y_test, y_pred_adjusted)\n",
    "recall = recall_score(y_test, y_pred_adjusted)\n",
    "f1 = f1_score(y_test, y_pred_adjusted)\n",
    "\n",
    "# Output the results\n",
    "print(f'Accuracy: {accuracy:.4f}')\n",
    "print(f'Precision: {precision:.4f}')\n",
    "print(f'Recall: {recall:.4f}')\n",
    "print(f'F1 Score: {f1:.4f}')\n"
   ]
  }
 ],
 "metadata": {
  "kernelspec": {
   "display_name": "Python 3 (ipykernel)",
   "language": "python",
   "name": "python3"
  },
  "language_info": {
   "codemirror_mode": {
    "name": "ipython",
    "version": 3
   },
   "file_extension": ".py",
   "mimetype": "text/x-python",
   "name": "python",
   "nbconvert_exporter": "python",
   "pygments_lexer": "ipython3",
   "version": "3.9.15"
  }
 },
 "nbformat": 4,
 "nbformat_minor": 2
}
