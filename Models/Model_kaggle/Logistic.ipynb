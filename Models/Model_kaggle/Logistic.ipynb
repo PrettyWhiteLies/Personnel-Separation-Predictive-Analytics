{
 "cells": [
  {
   "cell_type": "code",
   "execution_count": 23,
   "metadata": {},
   "outputs": [],
   "source": [
    "import pandas as pd\n",
    "from sklearn.model_selection import train_test_split\n",
    "from sklearn.linear_model import LogisticRegression\n",
    "from sklearn.metrics import accuracy_score, precision_score, recall_score, f1_score, classification_report\n",
    "from sklearn.preprocessing import StandardScaler\n",
    "from imblearn.over_sampling import SMOTE"
   ]
  },
  {
   "cell_type": "markdown",
   "metadata": {},
   "source": [
    "# Reading data"
   ]
  },
  {
   "cell_type": "code",
   "execution_count": 24,
   "metadata": {},
   "outputs": [
    {
     "name": "stdout",
     "output_type": "stream",
     "text": [
      "   Age  BusinessTravel  DistanceFromHome  Education  EmployeeNumber  \\\n",
      "0   37               1                 1          4              77   \n",
      "1   54               2                 1          4            1245   \n",
      "2   34               2                 7          3             147   \n",
      "3   39               1                 1          1            1026   \n",
      "4   28               2                 1          3            1111   \n",
      "\n",
      "   EnvironmentSatisfaction  Gender  JobInvolvement  JobLevel  JobSatisfaction  \\\n",
      "0                        1       0               2         2                3   \n",
      "1                        4       1               3         3                3   \n",
      "2                        1       0               1         2                3   \n",
      "3                        4       1               2         4                4   \n",
      "4                        1       0               2         1                2   \n",
      "\n",
      "   ...  JobRole_Human Resources  JobRole_Laboratory Technician  \\\n",
      "0  ...                        0                              0   \n",
      "1  ...                        0                              0   \n",
      "2  ...                        0                              1   \n",
      "3  ...                        0                              0   \n",
      "4  ...                        0                              1   \n",
      "\n",
      "   JobRole_Manager  JobRole_Manufacturing Director  JobRole_Research Director  \\\n",
      "0                0                               1                          0   \n",
      "1                0                               1                          0   \n",
      "2                0                               0                          0   \n",
      "3                0                               1                          0   \n",
      "4                0                               0                          0   \n",
      "\n",
      "   JobRole_Research Scientist  JobRole_Sales Executive  \\\n",
      "0                           0                        0   \n",
      "1                           0                        0   \n",
      "2                           0                        0   \n",
      "3                           0                        0   \n",
      "4                           0                        0   \n",
      "\n",
      "   JobRole_Sales Representative  MaritalStatus_Married  MaritalStatus_Single  \n",
      "0                             0                      0                     0  \n",
      "1                             0                      0                     0  \n",
      "2                             0                      0                     1  \n",
      "3                             0                      1                     0  \n",
      "4                             0                      0                     0  \n",
      "\n",
      "[5 rows x 43 columns]\n"
     ]
    }
   ],
   "source": [
    "combined_data_path = '../EDA_kaggle/combined_data.csv'\n",
    "combined_data = pd.read_csv(combined_data_path)\n",
    "\n",
    "print(combined_data.head())"
   ]
  },
  {
   "cell_type": "code",
   "execution_count": 25,
   "metadata": {},
   "outputs": [
    {
     "data": {
      "text/plain": [
       "Index(['Age', 'BusinessTravel', 'DistanceFromHome', 'Education',\n",
       "       'EmployeeNumber', 'EnvironmentSatisfaction', 'Gender', 'JobInvolvement',\n",
       "       'JobLevel', 'JobSatisfaction', 'MonthlyIncome', 'NumCompaniesWorked',\n",
       "       'OverTime', 'PercentSalaryHike', 'PerformanceRating',\n",
       "       'RelationshipSatisfaction', 'StandardHours', 'StockOptionLevel',\n",
       "       'TotalWorkingYears', 'TrainingTimesLastYear', 'WorkLifeBalance',\n",
       "       'YearsAtCompany', 'YearsInCurrentRole', 'YearsSinceLastPromotion',\n",
       "       'YearsWithCurrManager', 'Label', 'Department_Research & Development',\n",
       "       'Department_Sales', 'EducationField_Life Sciences',\n",
       "       'EducationField_Marketing', 'EducationField_Medical',\n",
       "       'EducationField_Other', 'EducationField_Technical Degree',\n",
       "       'JobRole_Human Resources', 'JobRole_Laboratory Technician',\n",
       "       'JobRole_Manager', 'JobRole_Manufacturing Director',\n",
       "       'JobRole_Research Director', 'JobRole_Research Scientist',\n",
       "       'JobRole_Sales Executive', 'JobRole_Sales Representative',\n",
       "       'MaritalStatus_Married', 'MaritalStatus_Single'],\n",
       "      dtype='object')"
      ]
     },
     "execution_count": 25,
     "metadata": {},
     "output_type": "execute_result"
    }
   ],
   "source": [
    "combined_data.columns"
   ]
  },
  {
   "cell_type": "markdown",
   "metadata": {},
   "source": [
    "# Fitting the model"
   ]
  },
  {
   "cell_type": "code",
   "execution_count": 26,
   "metadata": {},
   "outputs": [],
   "source": [
    "# Set 'Label' as the target variable y, and the rest as features X\n",
    "X = combined_data.drop(columns=['Label'])\n",
    "y = combined_data['Label']"
   ]
  },
  {
   "cell_type": "code",
   "execution_count": 27,
   "metadata": {},
   "outputs": [],
   "source": [
    "# Standardize the numerical features\n",
    "scaler = StandardScaler()\n",
    "X_scaled = scaler.fit_transform(X)\n",
    "\n",
    "# Split the dataset into training and testing sets\n",
    "X_train, X_test, y_train, y_test = train_test_split(X_scaled, y, test_size=0.2, random_state=42)\n"
   ]
  },
  {
   "cell_type": "code",
   "execution_count": 28,
   "metadata": {},
   "outputs": [
    {
     "name": "stdout",
     "output_type": "stream",
     "text": [
      "Accuracy: 0.8930\n",
      "Precision: 0.7959\n",
      "Recall: 0.4643\n",
      "F1 Score: 0.5865\n"
     ]
    }
   ],
   "source": [
    "# Initialize and train the logistic regression model\n",
    "logreg = LogisticRegression()\n",
    "logreg.fit(X_train, y_train)\n",
    "\n",
    "# Make predictions on the test set\n",
    "y_pred = logreg.predict(X_test)\n",
    "\n",
    "# Evaluate the model\n",
    "accuracy = accuracy_score(y_test, y_pred)\n",
    "precision = precision_score(y_test, y_pred)\n",
    "recall = recall_score(y_test, y_pred)\n",
    "f1 = f1_score(y_test, y_pred)\n",
    "\n",
    "# Output the results with formatted output\n",
    "print(f'Accuracy: {accuracy:.4f}')\n",
    "print(f'Precision: {precision:.4f}')\n",
    "print(f'Recall: {recall:.4f}')\n",
    "print(f'F1 Score: {f1:.4f}')\n"
   ]
  },
  {
   "cell_type": "markdown",
   "metadata": {},
   "source": [
    "###  Select Features(p_value < 0.05)"
   ]
  },
  {
   "cell_type": "code",
   "execution_count": 29,
   "metadata": {},
   "outputs": [
    {
     "name": "stdout",
     "output_type": "stream",
     "text": [
      "Significant features with p-value < 0.05:\n",
      "0                                   Age\n",
      "1                        BusinessTravel\n",
      "2                      DistanceFromHome\n",
      "5               EnvironmentSatisfaction\n",
      "7                        JobInvolvement\n",
      "8                              JobLevel\n",
      "9                       JobSatisfaction\n",
      "10                        MonthlyIncome\n",
      "12                             OverTime\n",
      "15             RelationshipSatisfaction\n",
      "17                     StockOptionLevel\n",
      "18                    TotalWorkingYears\n",
      "19                TrainingTimesLastYear\n",
      "20                      WorkLifeBalance\n",
      "21                       YearsAtCompany\n",
      "22                   YearsInCurrentRole\n",
      "23              YearsSinceLastPromotion\n",
      "24                 YearsWithCurrManager\n",
      "25    Department_Research & Development\n",
      "26                     Department_Sales\n",
      "28             EducationField_Marketing\n",
      "29               EducationField_Medical\n",
      "31      EducationField_Technical Degree\n",
      "32              JobRole_Human Resources\n",
      "33        JobRole_Laboratory Technician\n",
      "34                      JobRole_Manager\n",
      "35       JobRole_Manufacturing Director\n",
      "36            JobRole_Research Director\n",
      "39         JobRole_Sales Representative\n",
      "40                MaritalStatus_Married\n",
      "41                 MaritalStatus_Single\n",
      "Name: Feature, dtype: object\n"
     ]
    },
    {
     "name": "stderr",
     "output_type": "stream",
     "text": [
      "c:\\Users\\user\\anaconda3\\anaconda\\envs\\comp90051_env\\lib\\site-packages\\sklearn\\feature_selection\\_univariate_selection.py:112: UserWarning: Features [16] are constant.\n",
      "  warnings.warn(\"Features %s are constant.\" % constant_features_idx, UserWarning)\n",
      "c:\\Users\\user\\anaconda3\\anaconda\\envs\\comp90051_env\\lib\\site-packages\\sklearn\\feature_selection\\_univariate_selection.py:113: RuntimeWarning: invalid value encountered in divide\n",
      "  f = msb / msw\n"
     ]
    }
   ],
   "source": [
    "# Select features using SelectKBest and f_classif\n",
    "select_k_best = SelectKBest(score_func=f_classif, k='all')  # Select all features\n",
    "X_new = select_k_best.fit_transform(X, y)\n",
    "\n",
    "# Get the p-values\n",
    "p_values = select_k_best.pvalues_\n",
    "\n",
    "# Put feature names and p-values into a DataFrame\n",
    "feature_scores = pd.DataFrame({'Feature': X.columns, 'P-Value': p_values})\n",
    "\n",
    "# Select features with p-value less than 0.05\n",
    "significant_features = feature_scores[feature_scores['P-Value'] < 0.05]['Feature']\n",
    "\n",
    "# Print significant features\n",
    "print(\"Significant features with p-value < 0.05:\")\n",
    "print(significant_features)\n",
    "\n",
    "# Select these significant features from X\n",
    "X_selected = X[significant_features]"
   ]
  },
  {
   "cell_type": "code",
   "execution_count": 30,
   "metadata": {},
   "outputs": [
    {
     "name": "stdout",
     "output_type": "stream",
     "text": [
      "Accuracy: 0.8911\n",
      "Precision: 0.7692\n",
      "Recall: 0.4762\n",
      "F1 Score: 0.5882\n"
     ]
    }
   ],
   "source": [
    "# Split the dataset into training and testing sets\n",
    "X_train, X_test, y_train, y_test = train_test_split(X_selected, y, test_size=0.2, random_state=42)\n",
    "\n",
    "# Standardize the numerical features (if needed)\n",
    "scaler = StandardScaler()\n",
    "X_train_scaled = scaler.fit_transform(X_train)\n",
    "X_test_scaled = scaler.transform(X_test)\n",
    "\n",
    "# Initialize and train the logistic regression model\n",
    "logreg = LogisticRegression(max_iter=1000)\n",
    "logreg.fit(X_train_scaled, y_train)\n",
    "\n",
    "# Make predictions on the test set\n",
    "y_pred = logreg.predict(X_test_scaled)\n",
    "# Evaluate the model\n",
    "accuracy = accuracy_score(y_test, y_pred)\n",
    "precision = precision_score(y_test, y_pred)\n",
    "recall = recall_score(y_test, y_pred)\n",
    "f1 = f1_score(y_test, y_pred)\n",
    "\n",
    "# Output the results with formatted output\n",
    "print(f'Accuracy: {accuracy:.4f}')\n",
    "print(f'Precision: {precision:.4f}')\n",
    "print(f'Recall: {recall:.4f}')\n",
    "print(f'F1 Score: {f1:.4f}')"
   ]
  },
  {
   "cell_type": "markdown",
   "metadata": {},
   "source": [
    "## Addressing data imbalance"
   ]
  },
  {
   "cell_type": "code",
   "execution_count": 32,
   "metadata": {},
   "outputs": [
    {
     "name": "stdout",
     "output_type": "stream",
     "text": [
      "Accuracy: 0.7773\n",
      "Precision: 0.7810\n",
      "Recall: 0.7309\n",
      "F1 Score: 0.7551\n"
     ]
    },
    {
     "name": "stderr",
     "output_type": "stream",
     "text": [
      "c:\\Users\\user\\anaconda3\\anaconda\\envs\\comp90051_env\\lib\\site-packages\\sklearn\\linear_model\\_logistic.py:469: ConvergenceWarning: lbfgs failed to converge (status=1):\n",
      "STOP: TOTAL NO. of ITERATIONS REACHED LIMIT.\n",
      "\n",
      "Increase the number of iterations (max_iter) or scale the data as shown in:\n",
      "    https://scikit-learn.org/stable/modules/preprocessing.html\n",
      "Please also refer to the documentation for alternative solver options:\n",
      "    https://scikit-learn.org/stable/modules/linear_model.html#logistic-regression\n",
      "  n_iter_i = _check_optimize_result(\n"
     ]
    }
   ],
   "source": [
    "# Perform oversampling using SMOTE\n",
    "sm = SMOTE(random_state=42)\n",
    "X_res, y_res = sm.fit_resample(X_selected, y)\n",
    "\n",
    "# Split the oversampled dataset into training and testing sets\n",
    "X_train_res, X_test_res, y_train_res, y_test_res = train_test_split(X_res, y_res, test_size=0.2, random_state=42)\n",
    "\n",
    "# Train the logistic regression model\n",
    "logreg = LogisticRegression(max_iter=1000)\n",
    "logreg.fit(X_train_res, y_train_res)\n",
    "\n",
    "# Predict and evaluate\n",
    "y_pred_res = logreg.predict(X_test_res)\n",
    "\n",
    "# Calculate performance metrics\n",
    "accuracy = accuracy_score(y_test_res, y_pred_res)\n",
    "precision = precision_score(y_test_res, y_pred_res)\n",
    "recall = recall_score(y_test_res, y_pred_res)\n",
    "f1 = f1_score(y_test_res, y_pred_res)\n",
    "\n",
    "# Output the results with formatted output\n",
    "print(f'Accuracy: {accuracy:.4f}')\n",
    "print(f'Precision: {precision:.4f}')\n",
    "print(f'Recall: {recall:.4f}')\n",
    "print(f'F1 Score: {f1:.4f}')"
   ]
  },
  {
   "cell_type": "code",
   "execution_count": 33,
   "metadata": {},
   "outputs": [
    {
     "name": "stdout",
     "output_type": "stream",
     "text": [
      "Accuracy: 0.7276\n",
      "Precision: 0.3409\n",
      "Recall: 0.7143\n",
      "F1 Score: 0.4615\n"
     ]
    },
    {
     "name": "stderr",
     "output_type": "stream",
     "text": [
      "c:\\Users\\user\\anaconda3\\anaconda\\envs\\comp90051_env\\lib\\site-packages\\sklearn\\linear_model\\_logistic.py:469: ConvergenceWarning: lbfgs failed to converge (status=1):\n",
      "STOP: TOTAL NO. of ITERATIONS REACHED LIMIT.\n",
      "\n",
      "Increase the number of iterations (max_iter) or scale the data as shown in:\n",
      "    https://scikit-learn.org/stable/modules/preprocessing.html\n",
      "Please also refer to the documentation for alternative solver options:\n",
      "    https://scikit-learn.org/stable/modules/linear_model.html#logistic-regression\n",
      "  n_iter_i = _check_optimize_result(\n"
     ]
    }
   ],
   "source": [
    "# Train the model using class_weight='balanced'\n",
    "logreg = LogisticRegression(max_iter=1000, class_weight='balanced')\n",
    "logreg.fit(X_train, y_train)\n",
    "\n",
    "# Predict and evaluate\n",
    "y_pred_bal = logreg.predict(X_test)\n",
    "\n",
    "# Calculate performance metrics\n",
    "accuracy = accuracy_score(y_test, y_pred_bal)\n",
    "precision = precision_score(y_test, y_pred_bal)\n",
    "recall = recall_score(y_test, y_pred_bal)\n",
    "f1 = f1_score(y_test, y_pred_bal)\n",
    "\n",
    "# Output the results with formatted output\n",
    "print(f'Accuracy: {accuracy:.4f}')\n",
    "print(f'Precision: {precision:.4f}')\n",
    "print(f'Recall: {recall:.4f}')\n",
    "print(f'F1 Score: {f1:.4f}')"
   ]
  }
 ],
 "metadata": {
  "kernelspec": {
   "display_name": "comp90051_env",
   "language": "python",
   "name": "python3"
  },
  "language_info": {
   "codemirror_mode": {
    "name": "ipython",
    "version": 3
   },
   "file_extension": ".py",
   "mimetype": "text/x-python",
   "name": "python",
   "nbconvert_exporter": "python",
   "pygments_lexer": "ipython3",
   "version": "3.9.20"
  }
 },
 "nbformat": 4,
 "nbformat_minor": 2
}
